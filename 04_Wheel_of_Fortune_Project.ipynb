{
 "cells": [
  {
   "cell_type": "markdown",
   "id": "6361aae8",
   "metadata": {},
   "source": [
    "# Wheel of Fortune"
   ]
  },
  {
   "cell_type": "markdown",
   "id": "38473330",
   "metadata": {},
   "source": [
    "This project will take you through the process of implementing a simplified version of the game Wheel of Fortune. Here are the rules of our game:\n",
    "* **There are ```num_human``` human players and ```num_computer``` computer players**\n",
    "    * Every player has some amount of money ($0 at the start of the game)\n",
    "    * Every player has a set of prizes (none at the start of the game)\n",
    "\n",
    "\n",
    "* **The goal is to gues a phrase within a category. For example:**\n",
    "    * Category : **Artist & Song**\n",
    "    * Phtase: Whitney Huston's I Will Always Love You\n",
    "\n",
    "\n",
    "* **Players see the category and an obscured version of the phrase where every alphanumeric character in the phrase starts out as hidden (using underscores: _):**\n",
    "    * Category **Artist & Song**\n",
    "    * Phrase ```_______ _______'_ _ ____ ______ ____ ___```\n",
    "\n",
    "* Note that case (capitalization) does not matter\n",
    "\n",
    "* **During their turn, every player spins the wheel to determine a prize amount and:**\n",
    "    * **If the wheel lands on a cash square, players may do one of three actions:**\n",
    "            * **Guess any letter that hasn’t been guessed by typing a letter (a-z)**\n",
    "                * Vowels (a, e, i, o, u) cost $250 to guess and can’t be guessed if the player doesn’t have enough money. All other letters are “free” to guess\n",
    "\n",
    "The player can guess any letter that hasn’t been guessed and gets that cash amount for every time that letter appears in the phrase\n",
    "\n",
    "If there is a prize, the user also gets that prize (in addition to any prizes they already had)\n",
    "\n",
    "If the letter does appear in the phrase, the user keeps their turn. Otherwise, it’s the next player’s turn\n",
    "\n",
    "Example: The user lands on $500 and guesses ‘W’\n",
    "There are three W’s in the phrase, so the player wins $1500\n",
    "\n",
    "Guess the complete phrase by typing a phrase (anything over one character that isn’t ‘pass’)\n",
    "If they are correct, they win the game\n",
    "\n",
    "If they are incorrect, it is the next player’s turn\n",
    "\n",
    "Pass their turn by entering 'pass'\n",
    "\n",
    "If the wheel lands on “lose a turn”, the player loses their turn and the game moves on to the next player\n",
    "\n",
    "If the wheel lands on “bankrupt”, the player loses their turn and loses their money but they keep all of the prizes they have won so far.\n",
    "\n",
    "The game continues until the entire phrase is revealed (or one player guesses the complete phrase)\n",
    "\n",
    "—\n",
    "\n",
    "First, let’s learn about a few functions and methods that we’ll use along the way to do this project. There are no questions to answer in the next four active code windows. They are just here to introduce you to some functions and methods that you may not be aware of. The active code window that starts with “Part A” is where you are first asked to complete code.\n",
    "\n",
    "—\n",
    "\n",
    "The time.sleep(s) function (from the time module) delays execution of the next line of code for s seconds. You’ll find that we can build a little suspense during gameplay with some well-placed delays. The game can also be easier for users to understand if not everything happens instantly."
   ]
  },
  {
   "cell_type": "code",
   "execution_count": 1,
   "id": "3257a6bb",
   "metadata": {},
   "outputs": [
    {
     "name": "stdout",
     "output_type": "stream",
     "text": [
      "Sleep 2 seconds..\n",
      "Sleep 3 seconds..\n",
      "Sleep 4 seconds..\n"
     ]
    },
    {
     "ename": "KeyboardInterrupt",
     "evalue": "",
     "output_type": "error",
     "traceback": [
      "\u001b[1;31m---------------------------------------------------------------------------\u001b[0m",
      "\u001b[1;31mKeyboardInterrupt\u001b[0m                         Traceback (most recent call last)",
      "\u001b[1;32m<ipython-input-1-9bc9aa4b125c>\u001b[0m in \u001b[0;36m<module>\u001b[1;34m\u001b[0m\n\u001b[0;32m      3\u001b[0m \u001b[1;32mfor\u001b[0m \u001b[0mx\u001b[0m \u001b[1;32min\u001b[0m \u001b[0mrange\u001b[0m\u001b[1;33m(\u001b[0m\u001b[1;36m2\u001b[0m\u001b[1;33m,\u001b[0m \u001b[1;36m6\u001b[0m\u001b[1;33m)\u001b[0m\u001b[1;33m:\u001b[0m\u001b[1;33m\u001b[0m\u001b[1;33m\u001b[0m\u001b[0m\n\u001b[0;32m      4\u001b[0m     \u001b[0mprint\u001b[0m\u001b[1;33m(\u001b[0m\u001b[1;34m'Sleep {} seconds..'\u001b[0m\u001b[1;33m.\u001b[0m\u001b[0mformat\u001b[0m\u001b[1;33m(\u001b[0m\u001b[0mx\u001b[0m\u001b[1;33m)\u001b[0m\u001b[1;33m)\u001b[0m\u001b[1;33m\u001b[0m\u001b[1;33m\u001b[0m\u001b[0m\n\u001b[1;32m----> 5\u001b[1;33m     \u001b[0mtime\u001b[0m\u001b[1;33m.\u001b[0m\u001b[0msleep\u001b[0m\u001b[1;33m(\u001b[0m\u001b[0mx\u001b[0m\u001b[1;33m)\u001b[0m \u001b[1;31m# \"Sleep\" for x seconds\u001b[0m\u001b[1;33m\u001b[0m\u001b[1;33m\u001b[0m\u001b[0m\n\u001b[0m\u001b[0;32m      6\u001b[0m \u001b[0mprint\u001b[0m\u001b[1;33m(\u001b[0m\u001b[1;34m'Done!'\u001b[0m\u001b[1;33m)\u001b[0m\u001b[1;33m\u001b[0m\u001b[1;33m\u001b[0m\u001b[0m\n",
      "\u001b[1;31mKeyboardInterrupt\u001b[0m: "
     ]
    }
   ],
   "source": [
    "import time\n",
    "\n",
    "for x in range(2, 6):\n",
    "    print('Sleep {} seconds..'.format(x))\n",
    "    time.sleep(x) # \"Sleep\" for x seconds\n",
    "print('Done!')\n"
   ]
  },
  {
   "cell_type": "markdown",
   "id": "010f2384",
   "metadata": {},
   "source": [
    "The random module includes several useful methods for generating and using random numbers, including:\n",
    "\n",
    "* ```random.randint(min, max)``` generates a random number between ```min``` and ```max``` (inclusive)\n",
    "\n",
    "* ```random.choice(L)``` selects a random item from the list ```L```"
   ]
  },
  {
   "cell_type": "code",
   "execution_count": null,
   "id": "67ea7acf",
   "metadata": {},
   "outputs": [],
   "source": [
    "import random\n",
    "\n",
    "rand_number = random.randint(1, 10)\n",
    "print('Random number between 1 and 10: {}'.format(rand_number))\n",
    "\n",
    "letters = [letter for letter in 'ABCDEFGHIJKLMNOPQRSTUVWXYZ']\n",
    "rand_letter = random.choice(letters)\n",
    "print('Random letter: {}'.format(rand_letter))\n"
   ]
  },
  {
   "cell_type": "markdown",
   "id": "8b2babaf",
   "metadata": {},
   "source": [
    "There are also several string methods that we haven’t gone over in detail but will use for this project:\n",
    "\n",
    "* ```.upper()``` converts a string to uppercase (the opposite is ```.lower()```)\n",
    "\n",
    "* ```.count(s)``` counts how many times the string s occurs inside of a larger string"
   ]
  },
  {
   "cell_type": "code",
   "execution_count": null,
   "id": "bfcdb625",
   "metadata": {},
   "outputs": [],
   "source": [
    "myString = 'Hello, World! 123'\n",
    "\n",
    "print(myString.upper()) # HELLO, WORLD! 123\n",
    "print(myString.lower()) # hello, world! 123\n",
    "print(myString.count('l')) # 3\n",
    "\n",
    "s = 'python is pythonic'\n",
    "print(s.count('python')) # 2\n"
   ]
  },
  {
   "cell_type": "code",
   "execution_count": null,
   "id": "d3cc3ab8",
   "metadata": {},
   "outputs": [],
   "source": []
  },
  {
   "cell_type": "code",
   "execution_count": null,
   "id": "1a40319f",
   "metadata": {},
   "outputs": [],
   "source": []
  },
  {
   "cell_type": "code",
   "execution_count": null,
   "id": "8d33619d",
   "metadata": {},
   "outputs": [],
   "source": []
  }
 ],
 "metadata": {
  "kernelspec": {
   "display_name": "Python 3",
   "language": "python",
   "name": "python3"
  },
  "language_info": {
   "codemirror_mode": {
    "name": "ipython",
    "version": 3
   },
   "file_extension": ".py",
   "mimetype": "text/x-python",
   "name": "python",
   "nbconvert_exporter": "python",
   "pygments_lexer": "ipython3",
   "version": "3.8.8"
  }
 },
 "nbformat": 4,
 "nbformat_minor": 5
}
